{
 "cells": [
  {
   "cell_type": "markdown",
   "metadata": {},
   "source": [
    "## Interesting Facts<a name=\"toc\"></a>\n",
    "Data analysis of some interesting facts to demonstrate quantitative research<br>\n",
    "[Setup](#setup)<br>\n",
    "[Read Data](#read_data)<br>"
   ]
  },
  {
   "cell_type": "markdown",
   "metadata": {},
   "source": [
    "### Set-Up<a name=\"setup\"></a>\n",
    "[Top](#toc)<br>"
   ]
  },
  {
   "cell_type": "code",
   "execution_count": 1,
   "metadata": {},
   "outputs": [],
   "source": [
    "import matplotlib.pyplot as plt\n",
    "import numpy as np\n",
    "import pandas as pd\n",
    "plt.style.use('ggplot')"
   ]
  },
  {
   "cell_type": "markdown",
   "metadata": {},
   "source": [
    "### Read Data<a name=\"read_data\"></a>\n",
    "[Top](#toc)<br>"
   ]
  },
  {
   "cell_type": "code",
   "execution_count": 2,
   "metadata": {},
   "outputs": [],
   "source": [
    "def repl_MnB(value: str) -> float:\n",
    "    if isinstance(value, str):\n",
    "        if value[-1:] == 'M':\n",
    "            return float(value[:-1]) * 1000\n",
    "        elif value[-1:] == 'B':\n",
    "            return float(value[:-1]) * 1000000\n",
    "    else:\n",
    "        return value\n",
    "\n",
    "    \n",
    "def clean_pct(value: str) -> float:\n",
    "    if isinstance(value, str):\n",
    "        if value[-1:] == '%':\n",
    "            if value[-2:-1] == 'k':\n",
    "                return float(value[:-2]) * 1000\n",
    "            else:\n",
    "                return float(value[:-1])\n",
    "    else:\n",
    "        return value\n",
    "\n",
    "    \n",
    "def clean_space(value: str):\n",
    "    if isinstance(value, str):\n",
    "        return None\n",
    "    else:\n",
    "        return value"
   ]
  },
  {
   "cell_type": "code",
   "execution_count": 3,
   "metadata": {},
   "outputs": [
    {
     "data": {
      "text/html": [
       "<div>\n",
       "<style scoped>\n",
       "    .dataframe tbody tr th:only-of-type {\n",
       "        vertical-align: middle;\n",
       "    }\n",
       "\n",
       "    .dataframe tbody tr th {\n",
       "        vertical-align: top;\n",
       "    }\n",
       "\n",
       "    .dataframe thead th {\n",
       "        text-align: right;\n",
       "    }\n",
       "</style>\n",
       "<table border=\"1\" class=\"dataframe\">\n",
       "  <thead>\n",
       "    <tr style=\"text-align: right;\">\n",
       "      <th></th>\n",
       "      <th>Ticker</th>\n",
       "      <th>Name</th>\n",
       "      <th>ARD Ref Diluted EPS</th>\n",
       "      <th>C&amp;CE LF</th>\n",
       "      <th>Adj EPS Surp % LF</th>\n",
       "      <th>GAAP EPS Surp % LF</th>\n",
       "      <th>Rec Consensus</th>\n",
       "      <th>BEst Rec 6Mo</th>\n",
       "      <th>GICS Ind Grp Name</th>\n",
       "      <th>Diluted EPS:CQ-4 T12M</th>\n",
       "      <th>Total Return:Y-1</th>\n",
       "      <th>CFO:CQ-4 T12M</th>\n",
       "      <th>Revenue:CQ-4 T12M</th>\n",
       "      <th>Cash fr Invstg:CQ-4 T12M</th>\n",
       "      <th>Tot Assets:Q-4</th>\n",
       "      <th>LT Brrwng:Q-4</th>\n",
       "      <th>ST Brrwng:Q-4</th>\n",
       "    </tr>\n",
       "  </thead>\n",
       "  <tbody>\n",
       "    <tr>\n",
       "      <th>0</th>\n",
       "      <td>DATA US Equity</td>\n",
       "      <td>TABLEAU SOFTWARE INC-CL A</td>\n",
       "      <td></td>\n",
       "      <td>639250.0</td>\n",
       "      <td>33.96</td>\n",
       "      <td>67.62</td>\n",
       "      <td>3.90</td>\n",
       "      <td>None</td>\n",
       "      <td>Software &amp; Services</td>\n",
       "      <td>-2.36</td>\n",
       "      <td>73.41</td>\n",
       "      <td>226870.0</td>\n",
       "      <td>877060.0</td>\n",
       "      <td>-461960.0</td>\n",
       "      <td>1320000.0</td>\n",
       "      <td>0.0</td>\n",
       "      <td>0.0</td>\n",
       "    </tr>\n",
       "    <tr>\n",
       "      <th>1</th>\n",
       "      <td>RLGY US Equity</td>\n",
       "      <td>REALOGY HOLDINGS CORP</td>\n",
       "      <td></td>\n",
       "      <td>226000.0</td>\n",
       "      <td>-8.89</td>\n",
       "      <td>-11.04</td>\n",
       "      <td>2.71</td>\n",
       "      <td>None</td>\n",
       "      <td>Real Estate</td>\n",
       "      <td>3.16</td>\n",
       "      <td>-43.68</td>\n",
       "      <td>667000.0</td>\n",
       "      <td>6110000.0</td>\n",
       "      <td>-148000.0</td>\n",
       "      <td>7520000.0</td>\n",
       "      <td>3230000.0</td>\n",
       "      <td>476000.0</td>\n",
       "    </tr>\n",
       "    <tr>\n",
       "      <th>2</th>\n",
       "      <td>NWSA US Equity</td>\n",
       "      <td>NEWS CORP - CLASS A</td>\n",
       "      <td></td>\n",
       "      <td>1890000.0</td>\n",
       "      <td>269.57</td>\n",
       "      <td>142.86</td>\n",
       "      <td>3.25</td>\n",
       "      <td>None</td>\n",
       "      <td>Media &amp; Entertainment</td>\n",
       "      <td>-0.77</td>\n",
       "      <td>-28.99</td>\n",
       "      <td>697000.0</td>\n",
       "      <td>8300000.0</td>\n",
       "      <td>-163000.0</td>\n",
       "      <td>14660000.0</td>\n",
       "      <td>281000.0</td>\n",
       "      <td>105000.0</td>\n",
       "    </tr>\n",
       "    <tr>\n",
       "      <th>3</th>\n",
       "      <td>ZAYO US Equity</td>\n",
       "      <td>ZAYO GROUP HOLDINGS INC</td>\n",
       "      <td></td>\n",
       "      <td>353900.0</td>\n",
       "      <td>-32.43</td>\n",
       "      <td>-31.82</td>\n",
       "      <td>4.67</td>\n",
       "      <td>None</td>\n",
       "      <td>Telecommunication Services</td>\n",
       "      <td>0.34</td>\n",
       "      <td>-37.93</td>\n",
       "      <td>963800.0</td>\n",
       "      <td>2490000.0</td>\n",
       "      <td>-2240000.0</td>\n",
       "      <td>8860000.0</td>\n",
       "      <td>5630000.0</td>\n",
       "      <td>12800.0</td>\n",
       "    </tr>\n",
       "    <tr>\n",
       "      <th>4</th>\n",
       "      <td>CDW US Equity</td>\n",
       "      <td>CDW CORP/DE</td>\n",
       "      <td></td>\n",
       "      <td>255100.0</td>\n",
       "      <td>6.29</td>\n",
       "      <td>11.94</td>\n",
       "      <td>4.30</td>\n",
       "      <td>None</td>\n",
       "      <td>Technology Hardware &amp; Equipment</td>\n",
       "      <td>3.34</td>\n",
       "      <td>17.96</td>\n",
       "      <td>777700.0</td>\n",
       "      <td>14920000.0</td>\n",
       "      <td>-81100.0</td>\n",
       "      <td>7100000.0</td>\n",
       "      <td>3390000.0</td>\n",
       "      <td>41500.0</td>\n",
       "    </tr>\n",
       "  </tbody>\n",
       "</table>\n",
       "</div>"
      ],
      "text/plain": [
       "           Ticker                       Name ARD Ref Diluted EPS    C&CE LF  \\\n",
       "0  DATA US Equity  TABLEAU SOFTWARE INC-CL A                       639250.0   \n",
       "1  RLGY US Equity      REALOGY HOLDINGS CORP                       226000.0   \n",
       "2  NWSA US Equity        NEWS CORP - CLASS A                      1890000.0   \n",
       "3  ZAYO US Equity    ZAYO GROUP HOLDINGS INC                       353900.0   \n",
       "4   CDW US Equity                CDW CORP/DE                       255100.0   \n",
       "\n",
       "   Adj EPS Surp % LF  GAAP EPS Surp % LF  Rec Consensus BEst Rec 6Mo  \\\n",
       "0              33.96               67.62           3.90         None   \n",
       "1              -8.89              -11.04           2.71         None   \n",
       "2             269.57              142.86           3.25         None   \n",
       "3             -32.43              -31.82           4.67         None   \n",
       "4               6.29               11.94           4.30         None   \n",
       "\n",
       "                 GICS Ind Grp Name  Diluted EPS:CQ-4 T12M  Total Return:Y-1  \\\n",
       "0              Software & Services                  -2.36             73.41   \n",
       "1                      Real Estate                   3.16            -43.68   \n",
       "2            Media & Entertainment                  -0.77            -28.99   \n",
       "3       Telecommunication Services                   0.34            -37.93   \n",
       "4  Technology Hardware & Equipment                   3.34             17.96   \n",
       "\n",
       "   CFO:CQ-4 T12M  Revenue:CQ-4 T12M  Cash fr Invstg:CQ-4 T12M  Tot Assets:Q-4  \\\n",
       "0       226870.0           877060.0                 -461960.0       1320000.0   \n",
       "1       667000.0          6110000.0                 -148000.0       7520000.0   \n",
       "2       697000.0          8300000.0                 -163000.0      14660000.0   \n",
       "3       963800.0          2490000.0                -2240000.0       8860000.0   \n",
       "4       777700.0         14920000.0                  -81100.0       7100000.0   \n",
       "\n",
       "   LT Brrwng:Q-4  ST Brrwng:Q-4  \n",
       "0            0.0            0.0  \n",
       "1      3230000.0       476000.0  \n",
       "2       281000.0       105000.0  \n",
       "3      5630000.0        12800.0  \n",
       "4      3390000.0        41500.0  "
      ]
     },
     "execution_count": 3,
     "metadata": {},
     "output_type": "execute_result"
    }
   ],
   "source": [
    "df = pd.read_excel('InterestingFacts.xlsx', usecols='A:Q', skiprows=[1,2])\n",
    "MnB_cols = ['C&CE LF', 'CFO:CQ-4 T12M', 'Revenue:CQ-4 T12M', 'Cash fr Invstg:CQ-4 T12M', 'Tot Assets:Q-4',\n",
    "            'LT Brrwng:Q-4', 'ST Brrwng:Q-4']\n",
    "for col in MnB_cols:\n",
    "    df[col] = df[col].apply(repl_MnB)\n",
    "Pct_cols = ['Adj EPS Surp % LF', 'GAAP EPS Surp % LF']\n",
    "for col in Pct_cols:\n",
    "    df[col] = df[col].apply(clean_pct)\n",
    "space_cols = ['Rec Consensus', 'BEst Rec 6Mo', 'Diluted EPS:CQ-4 T12M', 'Total Return:Y-1']\n",
    "for col in space_cols:\n",
    "    df[col] = df[col].apply(clean_space)\n",
    "df['Rec Consensus'].replace(regex=' +', value=None, inplace=True)\n",
    "df['Diluted EPS:CQ-4 T12M'].replace(regex=' +', value=None, inplace=True)\n",
    "df['Total Return:Y-1'].replace(regex=' +', value=None, inplace=True)\n",
    "df.head()"
   ]
  },
  {
   "cell_type": "code",
   "execution_count": 4,
   "metadata": {},
   "outputs": [
    {
     "data": {
      "text/plain": [
       "Ticker                       object\n",
       "Name                         object\n",
       "ARD Ref Diluted EPS          object\n",
       "C&CE LF                     float64\n",
       "Adj EPS Surp % LF           float64\n",
       "GAAP EPS Surp % LF          float64\n",
       "Rec Consensus               float64\n",
       "BEst Rec 6Mo                 object\n",
       "GICS Ind Grp Name            object\n",
       "Diluted EPS:CQ-4 T12M       float64\n",
       "Total Return:Y-1            float64\n",
       "CFO:CQ-4 T12M               float64\n",
       "Revenue:CQ-4 T12M           float64\n",
       "Cash fr Invstg:CQ-4 T12M    float64\n",
       "Tot Assets:Q-4              float64\n",
       "LT Brrwng:Q-4               float64\n",
       "ST Brrwng:Q-4               float64\n",
       "dtype: object"
      ]
     },
     "execution_count": 4,
     "metadata": {},
     "output_type": "execute_result"
    }
   ],
   "source": [
    "df.dtypes"
   ]
  },
  {
   "cell_type": "code",
   "execution_count": 5,
   "metadata": {},
   "outputs": [
    {
     "data": {
      "text/html": [
       "<div>\n",
       "<style scoped>\n",
       "    .dataframe tbody tr th:only-of-type {\n",
       "        vertical-align: middle;\n",
       "    }\n",
       "\n",
       "    .dataframe tbody tr th {\n",
       "        vertical-align: top;\n",
       "    }\n",
       "\n",
       "    .dataframe thead th {\n",
       "        text-align: right;\n",
       "    }\n",
       "</style>\n",
       "<table border=\"1\" class=\"dataframe\">\n",
       "  <thead>\n",
       "    <tr style=\"text-align: right;\">\n",
       "      <th></th>\n",
       "      <th>C&amp;CE LF</th>\n",
       "      <th>Adj EPS Surp % LF</th>\n",
       "      <th>GAAP EPS Surp % LF</th>\n",
       "      <th>Rec Consensus</th>\n",
       "      <th>Diluted EPS:CQ-4 T12M</th>\n",
       "      <th>Total Return:Y-1</th>\n",
       "      <th>CFO:CQ-4 T12M</th>\n",
       "      <th>Revenue:CQ-4 T12M</th>\n",
       "      <th>Cash fr Invstg:CQ-4 T12M</th>\n",
       "      <th>Tot Assets:Q-4</th>\n",
       "      <th>LT Brrwng:Q-4</th>\n",
       "      <th>ST Brrwng:Q-4</th>\n",
       "    </tr>\n",
       "  </thead>\n",
       "  <tbody>\n",
       "    <tr>\n",
       "      <th>count</th>\n",
       "      <td>9.780000e+02</td>\n",
       "      <td>964.000000</td>\n",
       "      <td>960.000000</td>\n",
       "      <td>982.000000</td>\n",
       "      <td>982.000000</td>\n",
       "      <td>982.000000</td>\n",
       "      <td>9.610000e+02</td>\n",
       "      <td>9.650000e+02</td>\n",
       "      <td>9.580000e+02</td>\n",
       "      <td>9.570000e+02</td>\n",
       "      <td>9.590000e+02</td>\n",
       "      <td>9.230000e+02</td>\n",
       "    </tr>\n",
       "    <tr>\n",
       "      <th>mean</th>\n",
       "      <td>2.078286e+06</td>\n",
       "      <td>192.460840</td>\n",
       "      <td>477.703146</td>\n",
       "      <td>3.956405</td>\n",
       "      <td>3.720255</td>\n",
       "      <td>-7.780041</td>\n",
       "      <td>1.977092e+06</td>\n",
       "      <td>1.339278e+07</td>\n",
       "      <td>-1.523617e+06</td>\n",
       "      <td>3.215346e+07</td>\n",
       "      <td>7.650494e+06</td>\n",
       "      <td>2.289206e+06</td>\n",
       "    </tr>\n",
       "    <tr>\n",
       "      <th>std</th>\n",
       "      <td>9.003415e+06</td>\n",
       "      <td>5291.403183</td>\n",
       "      <td>14240.826322</td>\n",
       "      <td>0.582749</td>\n",
       "      <td>10.385831</td>\n",
       "      <td>26.755734</td>\n",
       "      <td>4.852551e+06</td>\n",
       "      <td>3.118055e+07</td>\n",
       "      <td>6.360249e+06</td>\n",
       "      <td>7.842683e+07</td>\n",
       "      <td>2.243303e+07</td>\n",
       "      <td>1.536211e+07</td>\n",
       "    </tr>\n",
       "    <tr>\n",
       "      <th>min</th>\n",
       "      <td>0.000000e+00</td>\n",
       "      <td>-2530.000000</td>\n",
       "      <td>-1380.000000</td>\n",
       "      <td>1.000000</td>\n",
       "      <td>-16.730000</td>\n",
       "      <td>-86.590000</td>\n",
       "      <td>-1.801000e+07</td>\n",
       "      <td>0.000000e+00</td>\n",
       "      <td>-5.159000e+07</td>\n",
       "      <td>2.027200e+05</td>\n",
       "      <td>0.000000e+00</td>\n",
       "      <td>0.000000e+00</td>\n",
       "    </tr>\n",
       "    <tr>\n",
       "      <th>25%</th>\n",
       "      <td>1.708475e+05</td>\n",
       "      <td>0.000000</td>\n",
       "      <td>-8.505000</td>\n",
       "      <td>3.590000</td>\n",
       "      <td>0.970000</td>\n",
       "      <td>-24.122500</td>\n",
       "      <td>3.472000e+05</td>\n",
       "      <td>1.850000e+06</td>\n",
       "      <td>-1.407500e+06</td>\n",
       "      <td>4.290000e+06</td>\n",
       "      <td>7.829500e+05</td>\n",
       "      <td>2.990000e+03</td>\n",
       "    </tr>\n",
       "    <tr>\n",
       "      <th>50%</th>\n",
       "      <td>4.426500e+05</td>\n",
       "      <td>4.100000</td>\n",
       "      <td>3.160000</td>\n",
       "      <td>4.000000</td>\n",
       "      <td>2.570000</td>\n",
       "      <td>-8.275000</td>\n",
       "      <td>6.989000e+05</td>\n",
       "      <td>4.560000e+06</td>\n",
       "      <td>-4.585850e+05</td>\n",
       "      <td>9.600000e+06</td>\n",
       "      <td>2.400000e+06</td>\n",
       "      <td>1.340000e+05</td>\n",
       "    </tr>\n",
       "    <tr>\n",
       "      <th>75%</th>\n",
       "      <td>1.160000e+06</td>\n",
       "      <td>12.045000</td>\n",
       "      <td>15.755000</td>\n",
       "      <td>4.400000</td>\n",
       "      <td>4.410000</td>\n",
       "      <td>5.982500</td>\n",
       "      <td>1.740000e+06</td>\n",
       "      <td>1.168000e+07</td>\n",
       "      <td>-1.337150e+05</td>\n",
       "      <td>2.579000e+07</td>\n",
       "      <td>6.340000e+06</td>\n",
       "      <td>8.228250e+05</td>\n",
       "    </tr>\n",
       "    <tr>\n",
       "      <th>max</th>\n",
       "      <td>1.848600e+08</td>\n",
       "      <td>163990.000000</td>\n",
       "      <td>441230.000000</td>\n",
       "      <td>5.000000</td>\n",
       "      <td>210.740000</td>\n",
       "      <td>278.390000</td>\n",
       "      <td>6.528000e+07</td>\n",
       "      <td>4.950100e+08</td>\n",
       "      <td>1.339100e+08</td>\n",
       "      <td>9.301300e+08</td>\n",
       "      <td>3.170100e+08</td>\n",
       "      <td>3.089000e+08</td>\n",
       "    </tr>\n",
       "  </tbody>\n",
       "</table>\n",
       "</div>"
      ],
      "text/plain": [
       "            C&CE LF  Adj EPS Surp % LF  GAAP EPS Surp % LF  Rec Consensus  \\\n",
       "count  9.780000e+02         964.000000          960.000000     982.000000   \n",
       "mean   2.078286e+06         192.460840          477.703146       3.956405   \n",
       "std    9.003415e+06        5291.403183        14240.826322       0.582749   \n",
       "min    0.000000e+00       -2530.000000        -1380.000000       1.000000   \n",
       "25%    1.708475e+05           0.000000           -8.505000       3.590000   \n",
       "50%    4.426500e+05           4.100000            3.160000       4.000000   \n",
       "75%    1.160000e+06          12.045000           15.755000       4.400000   \n",
       "max    1.848600e+08      163990.000000       441230.000000       5.000000   \n",
       "\n",
       "       Diluted EPS:CQ-4 T12M  Total Return:Y-1  CFO:CQ-4 T12M  \\\n",
       "count             982.000000        982.000000   9.610000e+02   \n",
       "mean                3.720255         -7.780041   1.977092e+06   \n",
       "std                10.385831         26.755734   4.852551e+06   \n",
       "min               -16.730000        -86.590000  -1.801000e+07   \n",
       "25%                 0.970000        -24.122500   3.472000e+05   \n",
       "50%                 2.570000         -8.275000   6.989000e+05   \n",
       "75%                 4.410000          5.982500   1.740000e+06   \n",
       "max               210.740000        278.390000   6.528000e+07   \n",
       "\n",
       "       Revenue:CQ-4 T12M  Cash fr Invstg:CQ-4 T12M  Tot Assets:Q-4  \\\n",
       "count       9.650000e+02              9.580000e+02    9.570000e+02   \n",
       "mean        1.339278e+07             -1.523617e+06    3.215346e+07   \n",
       "std         3.118055e+07              6.360249e+06    7.842683e+07   \n",
       "min         0.000000e+00             -5.159000e+07    2.027200e+05   \n",
       "25%         1.850000e+06             -1.407500e+06    4.290000e+06   \n",
       "50%         4.560000e+06             -4.585850e+05    9.600000e+06   \n",
       "75%         1.168000e+07             -1.337150e+05    2.579000e+07   \n",
       "max         4.950100e+08              1.339100e+08    9.301300e+08   \n",
       "\n",
       "       LT Brrwng:Q-4  ST Brrwng:Q-4  \n",
       "count   9.590000e+02   9.230000e+02  \n",
       "mean    7.650494e+06   2.289206e+06  \n",
       "std     2.243303e+07   1.536211e+07  \n",
       "min     0.000000e+00   0.000000e+00  \n",
       "25%     7.829500e+05   2.990000e+03  \n",
       "50%     2.400000e+06   1.340000e+05  \n",
       "75%     6.340000e+06   8.228250e+05  \n",
       "max     3.170100e+08   3.089000e+08  "
      ]
     },
     "execution_count": 5,
     "metadata": {},
     "output_type": "execute_result"
    }
   ],
   "source": [
    "df.describe()"
   ]
  },
  {
   "cell_type": "markdown",
   "metadata": {},
   "source": [
    "Some values are really way out. For the columns such as EPS Pct changes we want to set a minimum and maximum to -/+100%.<br>\n",
    "So we'll create a function to do just that."
   ]
  },
  {
   "cell_type": "code",
   "execution_count": 6,
   "metadata": {},
   "outputs": [],
   "source": [
    "def min_max(value):\n",
    "    if value < -100:\n",
    "        return -100.0\n",
    "    elif value > 100:\n",
    "        return 100.0\n",
    "    else:\n",
    "        return value"
   ]
  },
  {
   "cell_type": "code",
   "execution_count": 7,
   "metadata": {},
   "outputs": [],
   "source": [
    "min_max_cols = ['Adj EPS Surp % LF', 'GAAP EPS Surp % LF']\n",
    "for col in min_max_cols:\n",
    "    df[col] = df[col].apply(min_max)"
   ]
  },
  {
   "cell_type": "code",
   "execution_count": 8,
   "metadata": {},
   "outputs": [
    {
     "data": {
      "text/html": [
       "<div>\n",
       "<style scoped>\n",
       "    .dataframe tbody tr th:only-of-type {\n",
       "        vertical-align: middle;\n",
       "    }\n",
       "\n",
       "    .dataframe tbody tr th {\n",
       "        vertical-align: top;\n",
       "    }\n",
       "\n",
       "    .dataframe thead th {\n",
       "        text-align: right;\n",
       "    }\n",
       "</style>\n",
       "<table border=\"1\" class=\"dataframe\">\n",
       "  <thead>\n",
       "    <tr style=\"text-align: right;\">\n",
       "      <th></th>\n",
       "      <th>C&amp;CE LF</th>\n",
       "      <th>Adj EPS Surp % LF</th>\n",
       "      <th>GAAP EPS Surp % LF</th>\n",
       "      <th>Rec Consensus</th>\n",
       "      <th>Diluted EPS:CQ-4 T12M</th>\n",
       "      <th>Total Return:Y-1</th>\n",
       "      <th>CFO:CQ-4 T12M</th>\n",
       "      <th>Revenue:CQ-4 T12M</th>\n",
       "      <th>Cash fr Invstg:CQ-4 T12M</th>\n",
       "      <th>Tot Assets:Q-4</th>\n",
       "      <th>LT Brrwng:Q-4</th>\n",
       "      <th>ST Brrwng:Q-4</th>\n",
       "    </tr>\n",
       "  </thead>\n",
       "  <tbody>\n",
       "    <tr>\n",
       "      <th>count</th>\n",
       "      <td>9.780000e+02</td>\n",
       "      <td>964.000000</td>\n",
       "      <td>960.000000</td>\n",
       "      <td>982.000000</td>\n",
       "      <td>982.000000</td>\n",
       "      <td>982.000000</td>\n",
       "      <td>9.610000e+02</td>\n",
       "      <td>9.650000e+02</td>\n",
       "      <td>9.580000e+02</td>\n",
       "      <td>9.570000e+02</td>\n",
       "      <td>9.590000e+02</td>\n",
       "      <td>9.230000e+02</td>\n",
       "    </tr>\n",
       "    <tr>\n",
       "      <th>mean</th>\n",
       "      <td>2.078286e+06</td>\n",
       "      <td>8.528205</td>\n",
       "      <td>6.636010</td>\n",
       "      <td>3.956405</td>\n",
       "      <td>3.720255</td>\n",
       "      <td>-7.780041</td>\n",
       "      <td>1.977092e+06</td>\n",
       "      <td>1.339278e+07</td>\n",
       "      <td>-1.523617e+06</td>\n",
       "      <td>3.215346e+07</td>\n",
       "      <td>7.650494e+06</td>\n",
       "      <td>2.289206e+06</td>\n",
       "    </tr>\n",
       "    <tr>\n",
       "      <th>std</th>\n",
       "      <td>9.003415e+06</td>\n",
       "      <td>24.940948</td>\n",
       "      <td>38.343813</td>\n",
       "      <td>0.582749</td>\n",
       "      <td>10.385831</td>\n",
       "      <td>26.755734</td>\n",
       "      <td>4.852551e+06</td>\n",
       "      <td>3.118055e+07</td>\n",
       "      <td>6.360249e+06</td>\n",
       "      <td>7.842683e+07</td>\n",
       "      <td>2.243303e+07</td>\n",
       "      <td>1.536211e+07</td>\n",
       "    </tr>\n",
       "    <tr>\n",
       "      <th>min</th>\n",
       "      <td>0.000000e+00</td>\n",
       "      <td>-100.000000</td>\n",
       "      <td>-100.000000</td>\n",
       "      <td>1.000000</td>\n",
       "      <td>-16.730000</td>\n",
       "      <td>-86.590000</td>\n",
       "      <td>-1.801000e+07</td>\n",
       "      <td>0.000000e+00</td>\n",
       "      <td>-5.159000e+07</td>\n",
       "      <td>2.027200e+05</td>\n",
       "      <td>0.000000e+00</td>\n",
       "      <td>0.000000e+00</td>\n",
       "    </tr>\n",
       "    <tr>\n",
       "      <th>25%</th>\n",
       "      <td>1.708475e+05</td>\n",
       "      <td>0.000000</td>\n",
       "      <td>-8.505000</td>\n",
       "      <td>3.590000</td>\n",
       "      <td>0.970000</td>\n",
       "      <td>-24.122500</td>\n",
       "      <td>3.472000e+05</td>\n",
       "      <td>1.850000e+06</td>\n",
       "      <td>-1.407500e+06</td>\n",
       "      <td>4.290000e+06</td>\n",
       "      <td>7.829500e+05</td>\n",
       "      <td>2.990000e+03</td>\n",
       "    </tr>\n",
       "    <tr>\n",
       "      <th>50%</th>\n",
       "      <td>4.426500e+05</td>\n",
       "      <td>4.100000</td>\n",
       "      <td>3.160000</td>\n",
       "      <td>4.000000</td>\n",
       "      <td>2.570000</td>\n",
       "      <td>-8.275000</td>\n",
       "      <td>6.989000e+05</td>\n",
       "      <td>4.560000e+06</td>\n",
       "      <td>-4.585850e+05</td>\n",
       "      <td>9.600000e+06</td>\n",
       "      <td>2.400000e+06</td>\n",
       "      <td>1.340000e+05</td>\n",
       "    </tr>\n",
       "    <tr>\n",
       "      <th>75%</th>\n",
       "      <td>1.160000e+06</td>\n",
       "      <td>12.045000</td>\n",
       "      <td>15.755000</td>\n",
       "      <td>4.400000</td>\n",
       "      <td>4.410000</td>\n",
       "      <td>5.982500</td>\n",
       "      <td>1.740000e+06</td>\n",
       "      <td>1.168000e+07</td>\n",
       "      <td>-1.337150e+05</td>\n",
       "      <td>2.579000e+07</td>\n",
       "      <td>6.340000e+06</td>\n",
       "      <td>8.228250e+05</td>\n",
       "    </tr>\n",
       "    <tr>\n",
       "      <th>max</th>\n",
       "      <td>1.848600e+08</td>\n",
       "      <td>100.000000</td>\n",
       "      <td>100.000000</td>\n",
       "      <td>5.000000</td>\n",
       "      <td>210.740000</td>\n",
       "      <td>278.390000</td>\n",
       "      <td>6.528000e+07</td>\n",
       "      <td>4.950100e+08</td>\n",
       "      <td>1.339100e+08</td>\n",
       "      <td>9.301300e+08</td>\n",
       "      <td>3.170100e+08</td>\n",
       "      <td>3.089000e+08</td>\n",
       "    </tr>\n",
       "  </tbody>\n",
       "</table>\n",
       "</div>"
      ],
      "text/plain": [
       "            C&CE LF  Adj EPS Surp % LF  GAAP EPS Surp % LF  Rec Consensus  \\\n",
       "count  9.780000e+02         964.000000          960.000000     982.000000   \n",
       "mean   2.078286e+06           8.528205            6.636010       3.956405   \n",
       "std    9.003415e+06          24.940948           38.343813       0.582749   \n",
       "min    0.000000e+00        -100.000000         -100.000000       1.000000   \n",
       "25%    1.708475e+05           0.000000           -8.505000       3.590000   \n",
       "50%    4.426500e+05           4.100000            3.160000       4.000000   \n",
       "75%    1.160000e+06          12.045000           15.755000       4.400000   \n",
       "max    1.848600e+08         100.000000          100.000000       5.000000   \n",
       "\n",
       "       Diluted EPS:CQ-4 T12M  Total Return:Y-1  CFO:CQ-4 T12M  \\\n",
       "count             982.000000        982.000000   9.610000e+02   \n",
       "mean                3.720255         -7.780041   1.977092e+06   \n",
       "std                10.385831         26.755734   4.852551e+06   \n",
       "min               -16.730000        -86.590000  -1.801000e+07   \n",
       "25%                 0.970000        -24.122500   3.472000e+05   \n",
       "50%                 2.570000         -8.275000   6.989000e+05   \n",
       "75%                 4.410000          5.982500   1.740000e+06   \n",
       "max               210.740000        278.390000   6.528000e+07   \n",
       "\n",
       "       Revenue:CQ-4 T12M  Cash fr Invstg:CQ-4 T12M  Tot Assets:Q-4  \\\n",
       "count       9.650000e+02              9.580000e+02    9.570000e+02   \n",
       "mean        1.339278e+07             -1.523617e+06    3.215346e+07   \n",
       "std         3.118055e+07              6.360249e+06    7.842683e+07   \n",
       "min         0.000000e+00             -5.159000e+07    2.027200e+05   \n",
       "25%         1.850000e+06             -1.407500e+06    4.290000e+06   \n",
       "50%         4.560000e+06             -4.585850e+05    9.600000e+06   \n",
       "75%         1.168000e+07             -1.337150e+05    2.579000e+07   \n",
       "max         4.950100e+08              1.339100e+08    9.301300e+08   \n",
       "\n",
       "       LT Brrwng:Q-4  ST Brrwng:Q-4  \n",
       "count   9.590000e+02   9.230000e+02  \n",
       "mean    7.650494e+06   2.289206e+06  \n",
       "std     2.243303e+07   1.536211e+07  \n",
       "min     0.000000e+00   0.000000e+00  \n",
       "25%     7.829500e+05   2.990000e+03  \n",
       "50%     2.400000e+06   1.340000e+05  \n",
       "75%     6.340000e+06   8.228250e+05  \n",
       "max     3.170100e+08   3.089000e+08  "
      ]
     },
     "execution_count": 8,
     "metadata": {},
     "output_type": "execute_result"
    }
   ],
   "source": [
    "df.describe()"
   ]
  },
  {
   "cell_type": "code",
   "execution_count": 38,
   "metadata": {},
   "outputs": [
    {
     "data": {
      "text/html": [
       "<div>\n",
       "<style scoped>\n",
       "    .dataframe tbody tr th:only-of-type {\n",
       "        vertical-align: middle;\n",
       "    }\n",
       "\n",
       "    .dataframe tbody tr th {\n",
       "        vertical-align: top;\n",
       "    }\n",
       "\n",
       "    .dataframe thead th {\n",
       "        text-align: right;\n",
       "    }\n",
       "</style>\n",
       "<table border=\"1\" class=\"dataframe\">\n",
       "  <thead>\n",
       "    <tr style=\"text-align: right;\">\n",
       "      <th></th>\n",
       "      <th>Total Return:Y-1</th>\n",
       "    </tr>\n",
       "    <tr>\n",
       "      <th>Adj EPS Surp % LF</th>\n",
       "      <th></th>\n",
       "    </tr>\n",
       "  </thead>\n",
       "  <tbody>\n",
       "    <tr>\n",
       "      <th>(-100.2, -60.0]</th>\n",
       "      <td>-12.695000</td>\n",
       "    </tr>\n",
       "    <tr>\n",
       "      <th>(-60.0, -20.0]</th>\n",
       "      <td>-17.603500</td>\n",
       "    </tr>\n",
       "    <tr>\n",
       "      <th>(-20.0, 20.0]</th>\n",
       "      <td>-7.849504</td>\n",
       "    </tr>\n",
       "    <tr>\n",
       "      <th>(20.0, 60.0]</th>\n",
       "      <td>-5.929529</td>\n",
       "    </tr>\n",
       "    <tr>\n",
       "      <th>(60.0, 100.0]</th>\n",
       "      <td>4.700444</td>\n",
       "    </tr>\n",
       "  </tbody>\n",
       "</table>\n",
       "</div>"
      ],
      "text/plain": [
       "                   Total Return:Y-1\n",
       "Adj EPS Surp % LF                  \n",
       "(-100.2, -60.0]          -12.695000\n",
       "(-60.0, -20.0]           -17.603500\n",
       "(-20.0, 20.0]             -7.849504\n",
       "(20.0, 60.0]              -5.929529\n",
       "(60.0, 100.0]              4.700444"
      ]
     },
     "execution_count": 38,
     "metadata": {},
     "output_type": "execute_result"
    }
   ],
   "source": [
    "# Why does adjusted EPS exist? To show better performance of course!\n",
    "# Interesting how the top quintile in adj eps surprise has positive total return, yet...\n",
    "df.groupby(pd.cut(df['Adj EPS Surp % LF'], 5))[['Total Return:Y-1']].mean()"
   ]
  },
  {
   "cell_type": "code",
   "execution_count": 39,
   "metadata": {},
   "outputs": [
    {
     "data": {
      "text/html": [
       "<div>\n",
       "<style scoped>\n",
       "    .dataframe tbody tr th:only-of-type {\n",
       "        vertical-align: middle;\n",
       "    }\n",
       "\n",
       "    .dataframe tbody tr th {\n",
       "        vertical-align: top;\n",
       "    }\n",
       "\n",
       "    .dataframe thead th {\n",
       "        text-align: right;\n",
       "    }\n",
       "</style>\n",
       "<table border=\"1\" class=\"dataframe\">\n",
       "  <thead>\n",
       "    <tr style=\"text-align: right;\">\n",
       "      <th></th>\n",
       "      <th>Total Return:Y-1</th>\n",
       "      <th>Adj EPS Surp % LF</th>\n",
       "    </tr>\n",
       "    <tr>\n",
       "      <th>GAAP EPS Surp % LF</th>\n",
       "      <th></th>\n",
       "      <th></th>\n",
       "    </tr>\n",
       "  </thead>\n",
       "  <tbody>\n",
       "    <tr>\n",
       "      <th>(-100.2, -60.0]</th>\n",
       "      <td>-14.143636</td>\n",
       "      <td>1.160909</td>\n",
       "    </tr>\n",
       "    <tr>\n",
       "      <th>(-60.0, -20.0]</th>\n",
       "      <td>-9.949271</td>\n",
       "      <td>2.365313</td>\n",
       "    </tr>\n",
       "    <tr>\n",
       "      <th>(-20.0, 20.0]</th>\n",
       "      <td>-7.091737</td>\n",
       "      <td>5.689253</td>\n",
       "    </tr>\n",
       "    <tr>\n",
       "      <th>(20.0, 60.0]</th>\n",
       "      <td>-4.935586</td>\n",
       "      <td>14.843514</td>\n",
       "    </tr>\n",
       "    <tr>\n",
       "      <th>(60.0, 100.0]</th>\n",
       "      <td>-7.381613</td>\n",
       "      <td>28.453118</td>\n",
       "    </tr>\n",
       "  </tbody>\n",
       "</table>\n",
       "</div>"
      ],
      "text/plain": [
       "                    Total Return:Y-1  Adj EPS Surp % LF\n",
       "GAAP EPS Surp % LF                                     \n",
       "(-100.2, -60.0]           -14.143636           1.160909\n",
       "(-60.0, -20.0]             -9.949271           2.365313\n",
       "(-20.0, 20.0]              -7.091737           5.689253\n",
       "(20.0, 60.0]               -4.935586          14.843514\n",
       "(60.0, 100.0]              -7.381613          28.453118"
      ]
     },
     "execution_count": 39,
     "metadata": {},
     "output_type": "execute_result"
    }
   ],
   "source": [
    "# ...on a GAAP basis none of the GAAP quintiles have positive return.\n",
    "df.groupby(pd.cut(df['GAAP EPS Surp % LF'], 5))[['Total Return:Y-1', 'Adj EPS Surp % LF']].mean()"
   ]
  },
  {
   "cell_type": "code",
   "execution_count": 36,
   "metadata": {},
   "outputs": [
    {
     "data": {
      "text/html": [
       "<div>\n",
       "<style scoped>\n",
       "    .dataframe tbody tr th:only-of-type {\n",
       "        vertical-align: middle;\n",
       "    }\n",
       "\n",
       "    .dataframe tbody tr th {\n",
       "        vertical-align: top;\n",
       "    }\n",
       "\n",
       "    .dataframe thead th {\n",
       "        text-align: right;\n",
       "    }\n",
       "</style>\n",
       "<table border=\"1\" class=\"dataframe\">\n",
       "  <thead>\n",
       "    <tr style=\"text-align: right;\">\n",
       "      <th></th>\n",
       "      <th>Adj EPS Surp % LF</th>\n",
       "    </tr>\n",
       "    <tr>\n",
       "      <th>Adj EPS Surp % LF</th>\n",
       "      <th></th>\n",
       "    </tr>\n",
       "  </thead>\n",
       "  <tbody>\n",
       "    <tr>\n",
       "      <th>(-100.2, -60.0]</th>\n",
       "      <td>-77.540</td>\n",
       "    </tr>\n",
       "    <tr>\n",
       "      <th>(-60.0, -20.0]</th>\n",
       "      <td>-31.445</td>\n",
       "    </tr>\n",
       "    <tr>\n",
       "      <th>(-20.0, 20.0]</th>\n",
       "      <td>3.435</td>\n",
       "    </tr>\n",
       "    <tr>\n",
       "      <th>(20.0, 60.0]</th>\n",
       "      <td>30.380</td>\n",
       "    </tr>\n",
       "    <tr>\n",
       "      <th>(60.0, 100.0]</th>\n",
       "      <td>100.000</td>\n",
       "    </tr>\n",
       "  </tbody>\n",
       "</table>\n",
       "</div>"
      ],
      "text/plain": [
       "                   Adj EPS Surp % LF\n",
       "Adj EPS Surp % LF                   \n",
       "(-100.2, -60.0]              -77.540\n",
       "(-60.0, -20.0]               -31.445\n",
       "(-20.0, 20.0]                  3.435\n",
       "(20.0, 60.0]                  30.380\n",
       "(60.0, 100.0]                100.000"
      ]
     },
     "execution_count": 36,
     "metadata": {},
     "output_type": "execute_result"
    }
   ],
   "source": [
    "# so what does, the eps surprises look like?\n",
    "df.groupby(pd.cut(df['Adj EPS Surp % LF'], 5))[['Adj EPS Surp % LF']].median()"
   ]
  },
  {
   "cell_type": "code",
   "execution_count": 33,
   "metadata": {
    "scrolled": true
   },
   "outputs": [
    {
     "data": {
      "text/html": [
       "<div>\n",
       "<style scoped>\n",
       "    .dataframe tbody tr th:only-of-type {\n",
       "        vertical-align: middle;\n",
       "    }\n",
       "\n",
       "    .dataframe tbody tr th {\n",
       "        vertical-align: top;\n",
       "    }\n",
       "\n",
       "    .dataframe thead th {\n",
       "        text-align: right;\n",
       "    }\n",
       "</style>\n",
       "<table border=\"1\" class=\"dataframe\">\n",
       "  <thead>\n",
       "    <tr style=\"text-align: right;\">\n",
       "      <th></th>\n",
       "      <th>Adj EPS Surp % LF</th>\n",
       "      <th>Total Return:Y-1</th>\n",
       "    </tr>\n",
       "    <tr>\n",
       "      <th>GAAP EPS Surp % LF</th>\n",
       "      <th></th>\n",
       "      <th></th>\n",
       "    </tr>\n",
       "  </thead>\n",
       "  <tbody>\n",
       "    <tr>\n",
       "      <th>(-100.2, -60.0]</th>\n",
       "      <td>2.845</td>\n",
       "      <td>-21.26</td>\n",
       "    </tr>\n",
       "    <tr>\n",
       "      <th>(-60.0, -20.0]</th>\n",
       "      <td>2.230</td>\n",
       "      <td>-9.26</td>\n",
       "    </tr>\n",
       "    <tr>\n",
       "      <th>(-20.0, 20.0]</th>\n",
       "      <td>3.415</td>\n",
       "      <td>-7.77</td>\n",
       "    </tr>\n",
       "    <tr>\n",
       "      <th>(20.0, 60.0]</th>\n",
       "      <td>13.710</td>\n",
       "      <td>-6.72</td>\n",
       "    </tr>\n",
       "    <tr>\n",
       "      <th>(60.0, 100.0]</th>\n",
       "      <td>16.290</td>\n",
       "      <td>-9.01</td>\n",
       "    </tr>\n",
       "  </tbody>\n",
       "</table>\n",
       "</div>"
      ],
      "text/plain": [
       "                    Adj EPS Surp % LF  Total Return:Y-1\n",
       "GAAP EPS Surp % LF                                     \n",
       "(-100.2, -60.0]                 2.845            -21.26\n",
       "(-60.0, -20.0]                  2.230             -9.26\n",
       "(-20.0, 20.0]                   3.415             -7.77\n",
       "(20.0, 60.0]                   13.710             -6.72\n",
       "(60.0, 100.0]                  16.290             -9.01"
      ]
     },
     "execution_count": 33,
     "metadata": {},
     "output_type": "execute_result"
    }
   ],
   "source": [
    "# Bin GAAP EPS and what was the average Adj EPS % LF?\n",
    "# It is very interesting to see that for the first two bins, where the GAAP EPS Surprise\n",
    "# -20% or worse, the median Adj EPS Surp was positive.\n",
    "df.groupby(pd.cut(df['GAAP EPS Surp % LF'], 5))[['Adj EPS Surp % LF', 'Total Return:Y-1']].median()"
   ]
  },
  {
   "cell_type": "code",
   "execution_count": 34,
   "metadata": {
    "scrolled": true
   },
   "outputs": [
    {
     "data": {
      "text/html": [
       "<div>\n",
       "<style scoped>\n",
       "    .dataframe tbody tr th:only-of-type {\n",
       "        vertical-align: middle;\n",
       "    }\n",
       "\n",
       "    .dataframe tbody tr th {\n",
       "        vertical-align: top;\n",
       "    }\n",
       "\n",
       "    .dataframe thead th {\n",
       "        text-align: right;\n",
       "    }\n",
       "</style>\n",
       "<table border=\"1\" class=\"dataframe\">\n",
       "  <thead>\n",
       "    <tr style=\"text-align: right;\">\n",
       "      <th></th>\n",
       "      <th>Adj EPS Surp % LF</th>\n",
       "    </tr>\n",
       "    <tr>\n",
       "      <th>GAAP EPS Surp % LF</th>\n",
       "      <th></th>\n",
       "    </tr>\n",
       "  </thead>\n",
       "  <tbody>\n",
       "    <tr>\n",
       "      <th>(-100.2, -60.0]</th>\n",
       "      <td>44</td>\n",
       "    </tr>\n",
       "    <tr>\n",
       "      <th>(-60.0, -20.0]</th>\n",
       "      <td>96</td>\n",
       "    </tr>\n",
       "    <tr>\n",
       "      <th>(-20.0, 20.0]</th>\n",
       "      <td>616</td>\n",
       "    </tr>\n",
       "    <tr>\n",
       "      <th>(20.0, 60.0]</th>\n",
       "      <td>111</td>\n",
       "    </tr>\n",
       "    <tr>\n",
       "      <th>(60.0, 100.0]</th>\n",
       "      <td>93</td>\n",
       "    </tr>\n",
       "  </tbody>\n",
       "</table>\n",
       "</div>"
      ],
      "text/plain": [
       "                    Adj EPS Surp % LF\n",
       "GAAP EPS Surp % LF                   \n",
       "(-100.2, -60.0]                    44\n",
       "(-60.0, -20.0]                     96\n",
       "(-20.0, 20.0]                     616\n",
       "(20.0, 60.0]                      111\n",
       "(60.0, 100.0]                      93"
      ]
     },
     "execution_count": 34,
     "metadata": {},
     "output_type": "execute_result"
    }
   ],
   "source": [
    "# Bin GAAP EPS and what was the average Adj EPS % LF?\n",
    "# The number of companies was not negligible as there were 140 companies that were\n",
    "# in these two bins.\n",
    "df.groupby(pd.cut(df['GAAP EPS Surp % LF'], 5))[['Adj EPS Surp % LF']].count()"
   ]
  },
  {
   "cell_type": "code",
   "execution_count": 12,
   "metadata": {},
   "outputs": [
    {
     "data": {
      "image/png": "[encoded data removed]",
      "text/plain": [
       "<matplotlib.figure.Figure at 0xa02ca490>"
      ]
     },
     "metadata": {},
     "output_type": "display_data"
    }
   ],
   "source": [
    "df.groupby(pd.cut(df['Adj EPS Surp % LF'], 5))['Adj EPS Surp % LF'].plot.hist();"
   ]
  },
  {
   "cell_type": "code",
   "execution_count": 13,
   "metadata": {},
   "outputs": [
    {
     "data": {
      "text/plain": [
       "GAAP EPS Surp % LF\n",
       "(-100.2, -60.0]    -86.495\n",
       "(-60.0, -20.0]     -33.715\n",
       "(-20.0, 20.0]        2.155\n",
       "(20.0, 60.0]        33.670\n",
       "(60.0, 100.0]      100.000\n",
       "Name: GAAP EPS Surp % LF, dtype: float64"
      ]
     },
     "execution_count": 13,
     "metadata": {},
     "output_type": "execute_result"
    }
   ],
   "source": [
    "df.groupby(pd.cut(df['GAAP EPS Surp % LF'], 5))['GAAP EPS Surp % LF'].median()"
   ]
  },
  {
   "cell_type": "code",
   "execution_count": 14,
   "metadata": {
    "scrolled": false
   },
   "outputs": [
    {
     "data": {
      "image/png": "[encoded data removed]",
      "text/plain": [
       "<matplotlib.figure.Figure at 0xa03a1210>"
      ]
     },
     "metadata": {},
     "output_type": "display_data"
    }
   ],
   "source": [
    "df.groupby(pd.cut(df['GAAP EPS Surp % LF'], 5))['GAAP EPS Surp % LF'].plot.hist();"
   ]
  },
  {
   "cell_type": "code",
   "execution_count": 15,
   "metadata": {},
   "outputs": [],
   "source": [
    "# the difference between GAAP and Adjusted EPS Surprise\n",
    "df['Earn Surp Diff'] = df['Adj EPS Surp % LF'] - df['GAAP EPS Surp % LF']"
   ]
  },
  {
   "cell_type": "code",
   "execution_count": 20,
   "metadata": {},
   "outputs": [
    {
     "data": {
      "image/png": "[encoded data removed]",
      "text/plain": [
       "<matplotlib.figure.Figure at 0xa033d9d0>"
      ]
     },
     "metadata": {},
     "output_type": "display_data"
    }
   ],
   "source": [
    "df.groupby(pd.cut(df['Earn Surp Diff'], 5))['Earn Surp Diff'].plot.hist();"
   ]
  },
  {
   "cell_type": "code",
   "execution_count": 21,
   "metadata": {},
   "outputs": [
    {
     "data": {
      "text/html": [
       "<div>\n",
       "<style scoped>\n",
       "    .dataframe tbody tr th:only-of-type {\n",
       "        vertical-align: middle;\n",
       "    }\n",
       "\n",
       "    .dataframe tbody tr th {\n",
       "        vertical-align: top;\n",
       "    }\n",
       "\n",
       "    .dataframe thead th {\n",
       "        text-align: right;\n",
       "    }\n",
       "</style>\n",
       "<table border=\"1\" class=\"dataframe\">\n",
       "  <thead>\n",
       "    <tr style=\"text-align: right;\">\n",
       "      <th></th>\n",
       "      <th>Earn Surp Diff</th>\n",
       "    </tr>\n",
       "  </thead>\n",
       "  <tbody>\n",
       "    <tr>\n",
       "      <th>count</th>\n",
       "      <td>960.000000</td>\n",
       "    </tr>\n",
       "    <tr>\n",
       "      <th>mean</th>\n",
       "      <td>1.777010</td>\n",
       "    </tr>\n",
       "    <tr>\n",
       "      <th>std</th>\n",
       "      <td>39.164553</td>\n",
       "    </tr>\n",
       "    <tr>\n",
       "      <th>min</th>\n",
       "      <td>-197.370000</td>\n",
       "    </tr>\n",
       "    <tr>\n",
       "      <th>25%</th>\n",
       "      <td>-5.372500</td>\n",
       "    </tr>\n",
       "    <tr>\n",
       "      <th>50%</th>\n",
       "      <td>0.230000</td>\n",
       "    </tr>\n",
       "    <tr>\n",
       "      <th>75%</th>\n",
       "      <td>12.415000</td>\n",
       "    </tr>\n",
       "    <tr>\n",
       "      <th>max</th>\n",
       "      <td>200.000000</td>\n",
       "    </tr>\n",
       "  </tbody>\n",
       "</table>\n",
       "</div>"
      ],
      "text/plain": [
       "       Earn Surp Diff\n",
       "count      960.000000\n",
       "mean         1.777010\n",
       "std         39.164553\n",
       "min       -197.370000\n",
       "25%         -5.372500\n",
       "50%          0.230000\n",
       "75%         12.415000\n",
       "max        200.000000"
      ]
     },
     "execution_count": 21,
     "metadata": {},
     "output_type": "execute_result"
    }
   ],
   "source": [
    "df[['Earn Surp Diff']].describe()"
   ]
  },
  {
   "cell_type": "markdown",
   "metadata": {},
   "source": [
    "* What industries/sectors are more likely to use adjusted eps?\n",
    "* Which industries/sectors showed the greatest \"improvement\" in eps once adjusted?\n",
    "* Which factors would likely predict the companies with a greater propensity to rely on adjusted eps?"
   ]
  },
  {
   "cell_type": "code",
   "execution_count": 22,
   "metadata": {},
   "outputs": [
    {
     "data": {
      "text/plain": [
       "GICS Ind Grp Name\n",
       "Automobiles & Components                          12\n",
       "Banks                                             47\n",
       "Capital Goods                                     92\n",
       "Commercial & Professional Services                17\n",
       "Consumer Durables & Apparel                       29\n",
       "Consumer Services                                 35\n",
       "Diversified Financials                            54\n",
       "Energy                                            52\n",
       "Food & Staples Retailing                           8\n",
       "Food, Beverage & Tobacco                          30\n",
       "Health Care Equipment & Services                  54\n",
       "Household & Personal Products                     11\n",
       "Insurance                                         42\n",
       "Materials                                         54\n",
       "Media & Entertainment                             43\n",
       "Pharmaceuticals, Biotechnology & Life Sciences    49\n",
       "Real Estate                                       81\n",
       "Retailing                                         39\n",
       "Semiconductors & Semiconductor Equipment          26\n",
       "Software & Services                               81\n",
       "Technology Hardware & Equipment                   33\n",
       "Telecommunication Services                         8\n",
       "Transportation                                    26\n",
       "Utilities                                         37\n",
       "Name: Earn Surp Diff, dtype: int64"
      ]
     },
     "execution_count": 22,
     "metadata": {},
     "output_type": "execute_result"
    }
   ],
   "source": [
    "df.groupby(['GICS Ind Grp Name'])['Earn Surp Diff'].count()"
   ]
  },
  {
   "cell_type": "code",
   "execution_count": 23,
   "metadata": {},
   "outputs": [
    {
     "data": {
      "text/plain": [
       "GICS Ind Grp Name\n",
       "Automobiles & Components                          10\n",
       "Banks                                             28\n",
       "Capital Goods                                     49\n",
       "Commercial & Professional Services                11\n",
       "Consumer Durables & Apparel                       26\n",
       "Consumer Services                                 17\n",
       "Diversified Financials                            23\n",
       "Energy                                            30\n",
       "Food & Staples Retailing                           4\n",
       "Food, Beverage & Tobacco                          18\n",
       "Health Care Equipment & Services                  26\n",
       "Household & Personal Products                      4\n",
       "Insurance                                         15\n",
       "Materials                                         34\n",
       "Media & Entertainment                             22\n",
       "Pharmaceuticals, Biotechnology & Life Sciences    27\n",
       "Real Estate                                       30\n",
       "Retailing                                         18\n",
       "Semiconductors & Semiconductor Equipment          13\n",
       "Software & Services                               47\n",
       "Technology Hardware & Equipment                   10\n",
       "Telecommunication Services                         4\n",
       "Transportation                                    12\n",
       "Utilities                                         26\n",
       "Name: Earn Surp Diff, dtype: int64"
      ]
     },
     "execution_count": 23,
     "metadata": {},
     "output_type": "execute_result"
    }
   ],
   "source": [
    "df.loc[(df['Earn Surp Diff'] > 0)].groupby(['GICS Ind Grp Name'])['Earn Surp Diff'].count()"
   ]
  },
  {
   "cell_type": "code",
   "execution_count": 24,
   "metadata": {},
   "outputs": [
    {
     "data": {
      "text/plain": [
       "GICS Ind Grp Name\n",
       "Automobiles & Components                          0.833333\n",
       "Banks                                             0.595745\n",
       "Capital Goods                                     0.532609\n",
       "Commercial & Professional Services                0.647059\n",
       "Consumer Durables & Apparel                       0.896552\n",
       "Consumer Services                                 0.485714\n",
       "Diversified Financials                            0.425926\n",
       "Energy                                            0.576923\n",
       "Food & Staples Retailing                          0.500000\n",
       "Food, Beverage & Tobacco                          0.600000\n",
       "Health Care Equipment & Services                  0.481481\n",
       "Household & Personal Products                     0.363636\n",
       "Insurance                                         0.357143\n",
       "Materials                                         0.629630\n",
       "Media & Entertainment                             0.511628\n",
       "Pharmaceuticals, Biotechnology & Life Sciences    0.551020\n",
       "Real Estate                                       0.370370\n",
       "Retailing                                         0.461538\n",
       "Semiconductors & Semiconductor Equipment          0.500000\n",
       "Software & Services                               0.580247\n",
       "Technology Hardware & Equipment                   0.303030\n",
       "Telecommunication Services                        0.500000\n",
       "Transportation                                    0.461538\n",
       "Utilities                                         0.702703\n",
       "Name: Earn Surp Diff, dtype: float64"
      ]
     },
     "execution_count": 24,
     "metadata": {},
     "output_type": "execute_result"
    }
   ],
   "source": [
    "(df.loc[(df['Earn Surp Diff'] > 0)].groupby(['GICS Ind Grp Name'])['Earn Surp Diff'].count()\n",
    " / df.groupby(['GICS Ind Grp Name'])['Earn Surp Diff'].count())"
   ]
  },
  {
   "cell_type": "code",
   "execution_count": 28,
   "metadata": {},
   "outputs": [
    {
     "data": {
      "text/plain": [
       "GICS Ind Grp Name\n",
       "Automobiles & Components                          0.166667\n",
       "Banks                                             0.319149\n",
       "Capital Goods                                     0.423913\n",
       "Commercial & Professional Services                0.352941\n",
       "Consumer Durables & Apparel                       0.068966\n",
       "Consumer Services                                 0.400000\n",
       "Diversified Financials                            0.537037\n",
       "Energy                                            0.346154\n",
       "Food & Staples Retailing                          0.375000\n",
       "Food, Beverage & Tobacco                          0.366667\n",
       "Health Care Equipment & Services                  0.500000\n",
       "Household & Personal Products                     0.636364\n",
       "Insurance                                         0.595238\n",
       "Materials                                         0.370370\n",
       "Media & Entertainment                             0.441860\n",
       "Pharmaceuticals, Biotechnology & Life Sciences    0.387755\n",
       "Real Estate                                       0.518519\n",
       "Retailing                                         0.461538\n",
       "Semiconductors & Semiconductor Equipment          0.500000\n",
       "Software & Services                               0.407407\n",
       "Technology Hardware & Equipment                   0.696970\n",
       "Telecommunication Services                        0.500000\n",
       "Transportation                                    0.500000\n",
       "Utilities                                         0.243243\n",
       "Name: Earn Surp Diff, dtype: float64"
      ]
     },
     "execution_count": 28,
     "metadata": {},
     "output_type": "execute_result"
    }
   ],
   "source": [
    "(df.loc[(df['Earn Surp Diff'] < 0)].groupby(['GICS Ind Grp Name'])['Earn Surp Diff'].count()\n",
    " / df.groupby(['GICS Ind Grp Name'])['Earn Surp Diff'].count())"
   ]
  },
  {
   "cell_type": "markdown",
   "metadata": {},
   "source": [
    "* What accounts for the increased use of non-GAAP earnings. Did better subsequent stock price performance encourage its use, or was executive compensation measured by non-GAAP measures?\n",
    "* Which industries make greater use of non-GAAP and why?"
   ]
  },
  {
   "cell_type": "code",
   "execution_count": 25,
   "metadata": {},
   "outputs": [
    {
     "data": {
      "image/png": "[encoded data removed]",
      "text/plain": [
       "<matplotlib.figure.Figure at 0x9dd30ff0>"
      ]
     },
     "metadata": {},
     "output_type": "display_data"
    }
   ],
   "source": [
    "plt.plot(df['Earn Surp Diff'], df['Total Return:Y-1'], 'ko')\n",
    "plt.xlabel('Earn Surp Diff')\n",
    "plt.ylabel('Total Return')\n",
    "plt.title('Earn Surp Diff vs Total Return');"
   ]
  },
  {
   "cell_type": "code",
   "execution_count": 26,
   "metadata": {},
   "outputs": [
    {
     "data": {
      "image/png": "[encoded data removed]",
      "text/plain": [
       "<matplotlib.figure.Figure at 0x9dc57eb0>"
      ]
     },
     "metadata": {},
     "output_type": "display_data"
    }
   ],
   "source": [
    "plt.plot(df['Adj EPS Surp % LF'], df['Total Return:Y-1'], 'ko')\n",
    "plt.xlabel('Adj EPS Surp %')\n",
    "plt.ylabel('Total Return')\n",
    "plt.title('Adj EPS Surp vs Total Return');"
   ]
  },
  {
   "cell_type": "code",
   "execution_count": 27,
   "metadata": {},
   "outputs": [
    {
     "data": {
      "image/png": "[encoded data removed]",
      "text/plain": [
       "<matplotlib.figure.Figure at 0x9dc1f310>"
      ]
     },
     "metadata": {},
     "output_type": "display_data"
    }
   ],
   "source": [
    "plt.plot(df['GAAP EPS Surp % LF'], df['Total Return:Y-1'], 'ko')\n",
    "plt.xlabel('GAAP EPS Surp %')\n",
    "plt.ylabel('Total Return')\n",
    "plt.title('GAAP EPS Surp vs Total Return');"
   ]
  },
  {
   "cell_type": "code",
   "execution_count": 41,
   "metadata": {},
   "outputs": [
    {
     "data": {
      "image/png": "[encoded data removed]",
      "text/plain": [
       "<matplotlib.figure.Figure at 0x9db816f0>"
      ]
     },
     "metadata": {},
     "output_type": "display_data"
    }
   ],
   "source": [
    "plt.plot(df['GAAP EPS Surp % LF'], df['Rec Consensus'], 'ko')\n",
    "plt.xlabel('GAAP EPS Surp %')\n",
    "plt.ylabel('Rec Consensus')\n",
    "plt.title('GAAP EPS Surp vs Rec Consensus');"
   ]
  },
  {
   "cell_type": "markdown",
   "metadata": {},
   "source": [
    "* Is there a relationship between earnings quality (NI-CFFO) and the use of Adj EPS"
   ]
  },
  {
   "cell_type": "code",
   "execution_count": null,
   "metadata": {},
   "outputs": [],
   "source": []
  }
 ],
 "metadata": {
  "kernelspec": {
   "display_name": "Python 3",
   "language": "python",
   "name": "python3"
  },
  "language_info": {
   "codemirror_mode": {
    "name": "ipython",
    "version": 3
   },
   "file_extension": ".py",
   "mimetype": "text/x-python",
   "name": "python",
   "nbconvert_exporter": "python",
   "pygments_lexer": "ipython3",
   "version": "3.7.1"
  }
 },
 "nbformat": 4,
 "nbformat_minor": 2
}
