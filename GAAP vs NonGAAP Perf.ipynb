{
 "cells": [
  {
   "cell_type": "code",
   "execution_count": 1,
   "metadata": {},
   "outputs": [],
   "source": [
    "import pandas as pd"
   ]
  },
  {
   "cell_type": "code",
   "execution_count": 14,
   "metadata": {},
   "outputs": [],
   "source": [
    "df = pd.read_excel('GAAPvsNonGAAP.xlsx')"
   ]
  },
  {
   "cell_type": "code",
   "execution_count": 12,
   "metadata": {},
   "outputs": [],
   "source": [
    "df['GAAP vs NonGAAP'] = df['Diluted EPS T12M'] / df['ARD Ref Diluted EPS'] - 1\n",
    "df['NonGAAP Quintile'] = pd.qcut(df['GAAP vs NonGAAP'], 5)"
   ]
  },
  {
   "cell_type": "code",
   "execution_count": 16,
   "metadata": {},
   "outputs": [
    {
     "data": {
      "text/plain": [
       "NonGAAP Quintile\n",
       "(-20.001, -0.0475]   -12.085614\n",
       "(-0.0475, 0.0679]     -5.069648\n",
       "(0.0679, 0.192]       -5.745675\n",
       "(0.192, 0.389]       -10.580027\n",
       "(0.389, inf]          -5.845755\n",
       "Name: Total Return YTD, dtype: float64"
      ]
     },
     "execution_count": 16,
     "metadata": {},
     "output_type": "execute_result"
    }
   ],
   "source": [
    "df.groupby('NonGAAP Quintile')['Total Return YTD'].median()"
   ]
  },
  {
   "cell_type": "code",
   "execution_count": 15,
   "metadata": {},
   "outputs": [
    {
     "data": {
      "text/plain": [
       "NonGAAP Quintile\n",
       "(-20.001, -0.0475]    43.540164\n",
       "(-0.0475, 0.0679]     25.552075\n",
       "(0.0679, 0.192]       21.524452\n",
       "(0.192, 0.389]        19.754947\n",
       "(0.389, inf]          32.861474\n",
       "Name: P/E, dtype: float64"
      ]
     },
     "execution_count": 15,
     "metadata": {},
     "output_type": "execute_result"
    }
   ],
   "source": [
    "df.groupby('NonGAAP Quintile')['P/E'].mean()"
   ]
  },
  {
   "cell_type": "code",
   "execution_count": null,
   "metadata": {},
   "outputs": [],
   "source": []
  }
 ],
 "metadata": {
  "kernelspec": {
   "display_name": "Python 3",
   "language": "python",
   "name": "python3"
  },
  "language_info": {
   "codemirror_mode": {
    "name": "ipython",
    "version": 3
   },
   "file_extension": ".py",
   "mimetype": "text/x-python",
   "name": "python",
   "nbconvert_exporter": "python",
   "pygments_lexer": "ipython3",
   "version": "3.7.0"
  }
 },
 "nbformat": 4,
 "nbformat_minor": 2
}
